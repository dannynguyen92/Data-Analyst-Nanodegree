{
 "cells": [
  {
   "cell_type": "markdown",
   "metadata": {},
   "source": [
    "# Data Analysis for Ford GoBike System \n",
    "## by Huu Tri Nguyen\n",
    "\n",
    "## Preliminary Wrangling\n",
    "\n",
    "Ford GoBike is a regional public bicycle sharing system in the San Francisco Bay Area, California. The company begins operation in August 2013 as Bay Area Bike Share, the Ford GoBike system currently has over 2,600 bicycles in 262 stations across San Francisco, East Bay and San Jose. On June 28, 2017, the system was officially launched as Ford GoBike in a partnership with Ford Motor Company.\n",
    "\n",
    "In regards to how the system works, it is very similar to other bike share systems. They are bikes that are locked into a network of docking stations throughout the city. The bikes can be unlocked from one station and returned to any other station in the system, making them ideal for one-way trips. These bikes are available for use 24/7 to all members of the system"
   ]
  },
  {
   "cell_type": "markdown",
   "metadata": {},
   "source": [
    "## Part I - Gathering Data"
   ]
  },
  {
   "cell_type": "code",
   "execution_count": 1,
   "metadata": {},
   "outputs": [],
   "source": [
    "# import all packages and set plots to be embedded inline\n",
    "import numpy as np\n",
    "import pandas as pd\n",
    "import matplotlib.pyplot as plt\n",
    "import seaborn as sb\n",
    "import datetime\n",
    "\n",
    "%matplotlib inline"
   ]
  },
  {
   "cell_type": "markdown",
   "metadata": {},
   "source": [
    "Data used for this analysis:\n",
    "\n",
    "https://s3.amazonaws.com/fordgobike-data/index.html"
   ]
  },
  {
   "cell_type": "code",
   "execution_count": 2,
   "metadata": {},
   "outputs": [],
   "source": [
    "df = pd.read_csv('201904-fordgobike-tripdata.csv')"
   ]
  },
  {
   "cell_type": "markdown",
   "metadata": {},
   "source": [
    "## Part II - Assessing  Data"
   ]
  },
  {
   "cell_type": "code",
   "execution_count": 3,
   "metadata": {
    "scrolled": true
   },
   "outputs": [
    {
     "data": {
      "text/html": [
       "<div>\n",
       "<style scoped>\n",
       "    .dataframe tbody tr th:only-of-type {\n",
       "        vertical-align: middle;\n",
       "    }\n",
       "\n",
       "    .dataframe tbody tr th {\n",
       "        vertical-align: top;\n",
       "    }\n",
       "\n",
       "    .dataframe thead th {\n",
       "        text-align: right;\n",
       "    }\n",
       "</style>\n",
       "<table border=\"1\" class=\"dataframe\">\n",
       "  <thead>\n",
       "    <tr style=\"text-align: right;\">\n",
       "      <th></th>\n",
       "      <th>duration_sec</th>\n",
       "      <th>start_time</th>\n",
       "      <th>end_time</th>\n",
       "      <th>start_station_id</th>\n",
       "      <th>start_station_name</th>\n",
       "      <th>start_station_latitude</th>\n",
       "      <th>start_station_longitude</th>\n",
       "      <th>end_station_id</th>\n",
       "      <th>end_station_name</th>\n",
       "      <th>end_station_latitude</th>\n",
       "      <th>end_station_longitude</th>\n",
       "      <th>bike_id</th>\n",
       "      <th>user_type</th>\n",
       "      <th>member_birth_year</th>\n",
       "      <th>member_gender</th>\n",
       "      <th>bike_share_for_all_trip</th>\n",
       "    </tr>\n",
       "  </thead>\n",
       "  <tbody>\n",
       "    <tr>\n",
       "      <th>0</th>\n",
       "      <td>50305</td>\n",
       "      <td>2019-04-30 22:33:55.1550</td>\n",
       "      <td>2019-05-01 12:32:20.4540</td>\n",
       "      <td>368.0</td>\n",
       "      <td>Myrtle St at Polk St</td>\n",
       "      <td>37.785434</td>\n",
       "      <td>-122.419622</td>\n",
       "      <td>324.0</td>\n",
       "      <td>Union Square (Powell St at Post St)</td>\n",
       "      <td>37.788300</td>\n",
       "      <td>-122.408531</td>\n",
       "      <td>2749</td>\n",
       "      <td>Subscriber</td>\n",
       "      <td>1989.0</td>\n",
       "      <td>Female</td>\n",
       "      <td>No</td>\n",
       "    </tr>\n",
       "    <tr>\n",
       "      <th>1</th>\n",
       "      <td>53725</td>\n",
       "      <td>2019-04-30 20:43:41.6320</td>\n",
       "      <td>2019-05-01 11:39:06.9170</td>\n",
       "      <td>246.0</td>\n",
       "      <td>Berkeley Civic Center</td>\n",
       "      <td>37.869060</td>\n",
       "      <td>-122.270556</td>\n",
       "      <td>241.0</td>\n",
       "      <td>Ashby BART Station</td>\n",
       "      <td>37.852477</td>\n",
       "      <td>-122.270213</td>\n",
       "      <td>2608</td>\n",
       "      <td>Customer</td>\n",
       "      <td>NaN</td>\n",
       "      <td>NaN</td>\n",
       "      <td>No</td>\n",
       "    </tr>\n",
       "    <tr>\n",
       "      <th>2</th>\n",
       "      <td>78072</td>\n",
       "      <td>2019-04-30 10:32:46.4890</td>\n",
       "      <td>2019-05-01 08:13:58.9750</td>\n",
       "      <td>64.0</td>\n",
       "      <td>5th St at Brannan St</td>\n",
       "      <td>37.776754</td>\n",
       "      <td>-122.399018</td>\n",
       "      <td>64.0</td>\n",
       "      <td>5th St at Brannan St</td>\n",
       "      <td>37.776754</td>\n",
       "      <td>-122.399018</td>\n",
       "      <td>258</td>\n",
       "      <td>Subscriber</td>\n",
       "      <td>1993.0</td>\n",
       "      <td>Male</td>\n",
       "      <td>No</td>\n",
       "    </tr>\n",
       "    <tr>\n",
       "      <th>3</th>\n",
       "      <td>78969</td>\n",
       "      <td>2019-04-30 10:00:51.5500</td>\n",
       "      <td>2019-05-01 07:57:01.2620</td>\n",
       "      <td>67.0</td>\n",
       "      <td>San Francisco Caltrain Station 2  (Townsend St...</td>\n",
       "      <td>37.776639</td>\n",
       "      <td>-122.395526</td>\n",
       "      <td>89.0</td>\n",
       "      <td>Division St at Potrero Ave</td>\n",
       "      <td>37.769218</td>\n",
       "      <td>-122.407646</td>\n",
       "      <td>1974</td>\n",
       "      <td>Subscriber</td>\n",
       "      <td>1972.0</td>\n",
       "      <td>Male</td>\n",
       "      <td>No</td>\n",
       "    </tr>\n",
       "    <tr>\n",
       "      <th>4</th>\n",
       "      <td>1128</td>\n",
       "      <td>2019-04-30 23:59:04.7390</td>\n",
       "      <td>2019-05-01 00:17:53.0910</td>\n",
       "      <td>124.0</td>\n",
       "      <td>19th St at Florida St</td>\n",
       "      <td>37.760447</td>\n",
       "      <td>-122.410807</td>\n",
       "      <td>5.0</td>\n",
       "      <td>Powell St BART Station (Market St at 5th St)</td>\n",
       "      <td>37.783899</td>\n",
       "      <td>-122.408445</td>\n",
       "      <td>877</td>\n",
       "      <td>Subscriber</td>\n",
       "      <td>1973.0</td>\n",
       "      <td>Male</td>\n",
       "      <td>No</td>\n",
       "    </tr>\n",
       "  </tbody>\n",
       "</table>\n",
       "</div>"
      ],
      "text/plain": [
       "   duration_sec                start_time                  end_time  \\\n",
       "0         50305  2019-04-30 22:33:55.1550  2019-05-01 12:32:20.4540   \n",
       "1         53725  2019-04-30 20:43:41.6320  2019-05-01 11:39:06.9170   \n",
       "2         78072  2019-04-30 10:32:46.4890  2019-05-01 08:13:58.9750   \n",
       "3         78969  2019-04-30 10:00:51.5500  2019-05-01 07:57:01.2620   \n",
       "4          1128  2019-04-30 23:59:04.7390  2019-05-01 00:17:53.0910   \n",
       "\n",
       "   start_station_id                                 start_station_name  \\\n",
       "0             368.0                               Myrtle St at Polk St   \n",
       "1             246.0                              Berkeley Civic Center   \n",
       "2              64.0                               5th St at Brannan St   \n",
       "3              67.0  San Francisco Caltrain Station 2  (Townsend St...   \n",
       "4             124.0                              19th St at Florida St   \n",
       "\n",
       "   start_station_latitude  start_station_longitude  end_station_id  \\\n",
       "0               37.785434              -122.419622           324.0   \n",
       "1               37.869060              -122.270556           241.0   \n",
       "2               37.776754              -122.399018            64.0   \n",
       "3               37.776639              -122.395526            89.0   \n",
       "4               37.760447              -122.410807             5.0   \n",
       "\n",
       "                               end_station_name  end_station_latitude  \\\n",
       "0           Union Square (Powell St at Post St)             37.788300   \n",
       "1                            Ashby BART Station             37.852477   \n",
       "2                          5th St at Brannan St             37.776754   \n",
       "3                    Division St at Potrero Ave             37.769218   \n",
       "4  Powell St BART Station (Market St at 5th St)             37.783899   \n",
       "\n",
       "   end_station_longitude  bike_id   user_type  member_birth_year  \\\n",
       "0            -122.408531     2749  Subscriber             1989.0   \n",
       "1            -122.270213     2608    Customer                NaN   \n",
       "2            -122.399018      258  Subscriber             1993.0   \n",
       "3            -122.407646     1974  Subscriber             1972.0   \n",
       "4            -122.408445      877  Subscriber             1973.0   \n",
       "\n",
       "  member_gender bike_share_for_all_trip  \n",
       "0        Female                      No  \n",
       "1           NaN                      No  \n",
       "2          Male                      No  \n",
       "3          Male                      No  \n",
       "4          Male                      No  "
      ]
     },
     "execution_count": 3,
     "metadata": {},
     "output_type": "execute_result"
    }
   ],
   "source": [
    "df.head()"
   ]
  },
  {
   "cell_type": "code",
   "execution_count": 4,
   "metadata": {},
   "outputs": [
    {
     "name": "stdout",
     "output_type": "stream",
     "text": [
      "<class 'pandas.core.frame.DataFrame'>\n",
      "RangeIndex: 239111 entries, 0 to 239110\n",
      "Data columns (total 16 columns):\n",
      "duration_sec               239111 non-null int64\n",
      "start_time                 239111 non-null object\n",
      "end_time                   239111 non-null object\n",
      "start_station_id           239047 non-null float64\n",
      "start_station_name         239047 non-null object\n",
      "start_station_latitude     239111 non-null float64\n",
      "start_station_longitude    239111 non-null float64\n",
      "end_station_id             239047 non-null float64\n",
      "end_station_name           239047 non-null object\n",
      "end_station_latitude       239111 non-null float64\n",
      "end_station_longitude      239111 non-null float64\n",
      "bike_id                    239111 non-null int64\n",
      "user_type                  239111 non-null object\n",
      "member_birth_year          227912 non-null float64\n",
      "member_gender              227912 non-null object\n",
      "bike_share_for_all_trip    239111 non-null object\n",
      "dtypes: float64(7), int64(2), object(7)\n",
      "memory usage: 29.2+ MB\n"
     ]
    }
   ],
   "source": [
    "df.info()"
   ]
  },
  {
   "cell_type": "code",
   "execution_count": 5,
   "metadata": {},
   "outputs": [
    {
     "data": {
      "text/plain": [
       "0"
      ]
     },
     "execution_count": 5,
     "metadata": {},
     "output_type": "execute_result"
    }
   ],
   "source": [
    "# Check if duplicates exist\n",
    "df.duplicated().sum()"
   ]
  },
  {
   "cell_type": "code",
   "execution_count": 6,
   "metadata": {},
   "outputs": [
    {
     "data": {
      "text/plain": [
       "duration_sec                   0\n",
       "start_time                     0\n",
       "end_time                       0\n",
       "start_station_id              64\n",
       "start_station_name            64\n",
       "start_station_latitude         0\n",
       "start_station_longitude        0\n",
       "end_station_id                64\n",
       "end_station_name              64\n",
       "end_station_latitude           0\n",
       "end_station_longitude          0\n",
       "bike_id                        0\n",
       "user_type                      0\n",
       "member_birth_year          11199\n",
       "member_gender              11199\n",
       "bike_share_for_all_trip        0\n",
       "dtype: int64"
      ]
     },
     "execution_count": 6,
     "metadata": {},
     "output_type": "execute_result"
    }
   ],
   "source": [
    "# Check for Nan values\n",
    "df.isna().sum()"
   ]
  },
  {
   "cell_type": "code",
   "execution_count": 7,
   "metadata": {},
   "outputs": [
    {
     "data": {
      "text/html": [
       "<div>\n",
       "<style scoped>\n",
       "    .dataframe tbody tr th:only-of-type {\n",
       "        vertical-align: middle;\n",
       "    }\n",
       "\n",
       "    .dataframe tbody tr th {\n",
       "        vertical-align: top;\n",
       "    }\n",
       "\n",
       "    .dataframe thead th {\n",
       "        text-align: right;\n",
       "    }\n",
       "</style>\n",
       "<table border=\"1\" class=\"dataframe\">\n",
       "  <thead>\n",
       "    <tr style=\"text-align: right;\">\n",
       "      <th></th>\n",
       "      <th>duration_sec</th>\n",
       "      <th>start_station_id</th>\n",
       "      <th>start_station_latitude</th>\n",
       "      <th>start_station_longitude</th>\n",
       "      <th>end_station_id</th>\n",
       "      <th>end_station_latitude</th>\n",
       "      <th>end_station_longitude</th>\n",
       "      <th>bike_id</th>\n",
       "      <th>member_birth_year</th>\n",
       "    </tr>\n",
       "  </thead>\n",
       "  <tbody>\n",
       "    <tr>\n",
       "      <th>count</th>\n",
       "      <td>239111.000000</td>\n",
       "      <td>239047.000000</td>\n",
       "      <td>239111.000000</td>\n",
       "      <td>239111.000000</td>\n",
       "      <td>239047.000000</td>\n",
       "      <td>239111.000000</td>\n",
       "      <td>239111.000000</td>\n",
       "      <td>239111.000000</td>\n",
       "      <td>227912.000000</td>\n",
       "    </tr>\n",
       "    <tr>\n",
       "      <th>mean</th>\n",
       "      <td>802.671199</td>\n",
       "      <td>141.836538</td>\n",
       "      <td>37.769536</td>\n",
       "      <td>-122.352503</td>\n",
       "      <td>140.838099</td>\n",
       "      <td>37.766996</td>\n",
       "      <td>-122.343420</td>\n",
       "      <td>3666.956493</td>\n",
       "      <td>1984.863250</td>\n",
       "    </tr>\n",
       "    <tr>\n",
       "      <th>std</th>\n",
       "      <td>1990.006091</td>\n",
       "      <td>116.289776</td>\n",
       "      <td>0.127698</td>\n",
       "      <td>0.277088</td>\n",
       "      <td>116.386168</td>\n",
       "      <td>0.343083</td>\n",
       "      <td>1.068144</td>\n",
       "      <td>2180.717333</td>\n",
       "      <td>9.953144</td>\n",
       "    </tr>\n",
       "    <tr>\n",
       "      <th>min</th>\n",
       "      <td>61.000000</td>\n",
       "      <td>3.000000</td>\n",
       "      <td>0.000000</td>\n",
       "      <td>-122.453704</td>\n",
       "      <td>3.000000</td>\n",
       "      <td>0.000000</td>\n",
       "      <td>-122.453704</td>\n",
       "      <td>11.000000</td>\n",
       "      <td>1878.000000</td>\n",
       "    </tr>\n",
       "    <tr>\n",
       "      <th>25%</th>\n",
       "      <td>349.000000</td>\n",
       "      <td>47.000000</td>\n",
       "      <td>37.770083</td>\n",
       "      <td>-122.413004</td>\n",
       "      <td>44.000000</td>\n",
       "      <td>37.770407</td>\n",
       "      <td>-122.411738</td>\n",
       "      <td>1720.000000</td>\n",
       "      <td>1980.000000</td>\n",
       "    </tr>\n",
       "    <tr>\n",
       "      <th>50%</th>\n",
       "      <td>558.000000</td>\n",
       "      <td>104.000000</td>\n",
       "      <td>37.780760</td>\n",
       "      <td>-122.398285</td>\n",
       "      <td>102.000000</td>\n",
       "      <td>37.780955</td>\n",
       "      <td>-122.397437</td>\n",
       "      <td>3471.000000</td>\n",
       "      <td>1987.000000</td>\n",
       "    </tr>\n",
       "    <tr>\n",
       "      <th>75%</th>\n",
       "      <td>876.000000</td>\n",
       "      <td>240.000000</td>\n",
       "      <td>37.797280</td>\n",
       "      <td>-122.291209</td>\n",
       "      <td>239.000000</td>\n",
       "      <td>37.797320</td>\n",
       "      <td>-122.291376</td>\n",
       "      <td>5749.000000</td>\n",
       "      <td>1992.000000</td>\n",
       "    </tr>\n",
       "    <tr>\n",
       "      <th>max</th>\n",
       "      <td>86114.000000</td>\n",
       "      <td>420.000000</td>\n",
       "      <td>37.880222</td>\n",
       "      <td>0.000000</td>\n",
       "      <td>420.000000</td>\n",
       "      <td>37.880222</td>\n",
       "      <td>0.000000</td>\n",
       "      <td>7108.000000</td>\n",
       "      <td>2001.000000</td>\n",
       "    </tr>\n",
       "  </tbody>\n",
       "</table>\n",
       "</div>"
      ],
      "text/plain": [
       "        duration_sec  start_station_id  start_station_latitude  \\\n",
       "count  239111.000000     239047.000000           239111.000000   \n",
       "mean      802.671199        141.836538               37.769536   \n",
       "std      1990.006091        116.289776                0.127698   \n",
       "min        61.000000          3.000000                0.000000   \n",
       "25%       349.000000         47.000000               37.770083   \n",
       "50%       558.000000        104.000000               37.780760   \n",
       "75%       876.000000        240.000000               37.797280   \n",
       "max     86114.000000        420.000000               37.880222   \n",
       "\n",
       "       start_station_longitude  end_station_id  end_station_latitude  \\\n",
       "count            239111.000000   239047.000000         239111.000000   \n",
       "mean               -122.352503      140.838099             37.766996   \n",
       "std                   0.277088      116.386168              0.343083   \n",
       "min                -122.453704        3.000000              0.000000   \n",
       "25%                -122.413004       44.000000             37.770407   \n",
       "50%                -122.398285      102.000000             37.780955   \n",
       "75%                -122.291209      239.000000             37.797320   \n",
       "max                   0.000000      420.000000             37.880222   \n",
       "\n",
       "       end_station_longitude        bike_id  member_birth_year  \n",
       "count          239111.000000  239111.000000      227912.000000  \n",
       "mean             -122.343420    3666.956493        1984.863250  \n",
       "std                 1.068144    2180.717333           9.953144  \n",
       "min              -122.453704      11.000000        1878.000000  \n",
       "25%              -122.411738    1720.000000        1980.000000  \n",
       "50%              -122.397437    3471.000000        1987.000000  \n",
       "75%              -122.291376    5749.000000        1992.000000  \n",
       "max                 0.000000    7108.000000        2001.000000  "
      ]
     },
     "execution_count": 7,
     "metadata": {},
     "output_type": "execute_result"
    }
   ],
   "source": [
    "# View descriptive statistics of the dataframe\n",
    "df.describe()"
   ]
  },
  {
   "cell_type": "markdown",
   "metadata": {},
   "source": [
    "#### Quality issues\n",
    "\n",
    "- start time and end time are objects not a timestamps\n",
    "- user type and bike_share_for_all_trip can be set to category\n",
    "- we can calculate the distance for rides between stations\n",
    "- we can add more details from start_time and end_time with more details such as date, years and hours\n",
    "- Rows containing null data for member_birth_year and member_gender should be removed\n",
    "- Member birth year is in the float format, but should be converted to integer format"
   ]
  },
  {
   "cell_type": "markdown",
   "metadata": {},
   "source": [
    "## Part III - Cleaning Data"
   ]
  },
  {
   "cell_type": "code",
   "execution_count": 8,
   "metadata": {},
   "outputs": [],
   "source": [
    "# Create copies of original DataFrames\n",
    "df_clean = df.copy()"
   ]
  },
  {
   "cell_type": "code",
   "execution_count": 9,
   "metadata": {},
   "outputs": [],
   "source": [
    "# set dates to timestamps\n",
    "df_clean.start_time = pd.to_datetime(df_clean.start_time)\n",
    "df_clean.end_time = pd.to_datetime(df_clean.end_time)"
   ]
  },
  {
   "cell_type": "code",
   "execution_count": 10,
   "metadata": {},
   "outputs": [],
   "source": [
    "# set user type, and bike_share_for_all_trip to category\n",
    "df_clean.user_type = df_clean.user_type.astype('category')\n",
    "df_clean.bike_share_for_all_trip = df_clean.bike_share_for_all_trip.astype('category')"
   ]
  },
  {
   "cell_type": "code",
   "execution_count": 11,
   "metadata": {},
   "outputs": [],
   "source": [
    "# set bike id, start_station_id, end_station_id to object\n",
    "df_clean.bike_id = df_clean.bike_id.astype(str)\n",
    "df_clean.start_station_id = df_clean.start_station_id.astype(str)\n",
    "df_clean.end_station_id = df_clean.end_station_id.astype(str)"
   ]
  },
  {
   "cell_type": "code",
   "execution_count": 12,
   "metadata": {
    "scrolled": true
   },
   "outputs": [
    {
     "name": "stdout",
     "output_type": "stream",
     "text": [
      "<class 'pandas.core.frame.DataFrame'>\n",
      "RangeIndex: 239111 entries, 0 to 239110\n",
      "Data columns (total 16 columns):\n",
      "duration_sec               239111 non-null int64\n",
      "start_time                 239111 non-null datetime64[ns]\n",
      "end_time                   239111 non-null datetime64[ns]\n",
      "start_station_id           239111 non-null object\n",
      "start_station_name         239047 non-null object\n",
      "start_station_latitude     239111 non-null float64\n",
      "start_station_longitude    239111 non-null float64\n",
      "end_station_id             239111 non-null object\n",
      "end_station_name           239047 non-null object\n",
      "end_station_latitude       239111 non-null float64\n",
      "end_station_longitude      239111 non-null float64\n",
      "bike_id                    239111 non-null object\n",
      "user_type                  239111 non-null category\n",
      "member_birth_year          227912 non-null float64\n",
      "member_gender              227912 non-null object\n",
      "bike_share_for_all_trip    239111 non-null category\n",
      "dtypes: category(2), datetime64[ns](2), float64(5), int64(1), object(6)\n",
      "memory usage: 26.0+ MB\n"
     ]
    }
   ],
   "source": [
    "#Check data type\n",
    "df_clean.info()"
   ]
  },
  {
   "cell_type": "markdown",
   "metadata": {},
   "source": [
    "##### Extract more time format from start_time and end_time into "
   ]
  },
  {
   "cell_type": "code",
   "execution_count": 13,
   "metadata": {},
   "outputs": [],
   "source": [
    "# extract start time weekdays\n",
    "df_clean['start_time_weekday']=df_clean['start_time'].dt.strftime('%a')"
   ]
  },
  {
   "cell_type": "code",
   "execution_count": 14,
   "metadata": {},
   "outputs": [],
   "source": [
    "# extract start time day\n",
    "df_clean['start_time_day']=df_clean['start_time'].dt.day.astype(int)"
   ]
  },
  {
   "cell_type": "code",
   "execution_count": 15,
   "metadata": {},
   "outputs": [],
   "source": [
    "# extract start time hour\n",
    "df_clean['start_time_hour']=df_clean['start_time'].dt.hour"
   ]
  },
  {
   "cell_type": "code",
   "execution_count": 16,
   "metadata": {
    "scrolled": true
   },
   "outputs": [
    {
     "data": {
      "text/html": [
       "<div>\n",
       "<style scoped>\n",
       "    .dataframe tbody tr th:only-of-type {\n",
       "        vertical-align: middle;\n",
       "    }\n",
       "\n",
       "    .dataframe tbody tr th {\n",
       "        vertical-align: top;\n",
       "    }\n",
       "\n",
       "    .dataframe thead th {\n",
       "        text-align: right;\n",
       "    }\n",
       "</style>\n",
       "<table border=\"1\" class=\"dataframe\">\n",
       "  <thead>\n",
       "    <tr style=\"text-align: right;\">\n",
       "      <th></th>\n",
       "      <th>duration_sec</th>\n",
       "      <th>start_time</th>\n",
       "      <th>end_time</th>\n",
       "      <th>start_station_id</th>\n",
       "      <th>start_station_name</th>\n",
       "      <th>start_station_latitude</th>\n",
       "      <th>start_station_longitude</th>\n",
       "      <th>end_station_id</th>\n",
       "      <th>end_station_name</th>\n",
       "      <th>end_station_latitude</th>\n",
       "      <th>end_station_longitude</th>\n",
       "      <th>bike_id</th>\n",
       "      <th>user_type</th>\n",
       "      <th>member_birth_year</th>\n",
       "      <th>member_gender</th>\n",
       "      <th>bike_share_for_all_trip</th>\n",
       "      <th>start_time_weekday</th>\n",
       "      <th>start_time_day</th>\n",
       "      <th>start_time_hour</th>\n",
       "    </tr>\n",
       "  </thead>\n",
       "  <tbody>\n",
       "    <tr>\n",
       "      <th>0</th>\n",
       "      <td>50305</td>\n",
       "      <td>2019-04-30 22:33:55.155</td>\n",
       "      <td>2019-05-01 12:32:20.454</td>\n",
       "      <td>368.0</td>\n",
       "      <td>Myrtle St at Polk St</td>\n",
       "      <td>37.785434</td>\n",
       "      <td>-122.419622</td>\n",
       "      <td>324.0</td>\n",
       "      <td>Union Square (Powell St at Post St)</td>\n",
       "      <td>37.788300</td>\n",
       "      <td>-122.408531</td>\n",
       "      <td>2749</td>\n",
       "      <td>Subscriber</td>\n",
       "      <td>1989.0</td>\n",
       "      <td>Female</td>\n",
       "      <td>No</td>\n",
       "      <td>Tue</td>\n",
       "      <td>30</td>\n",
       "      <td>22</td>\n",
       "    </tr>\n",
       "    <tr>\n",
       "      <th>1</th>\n",
       "      <td>53725</td>\n",
       "      <td>2019-04-30 20:43:41.632</td>\n",
       "      <td>2019-05-01 11:39:06.917</td>\n",
       "      <td>246.0</td>\n",
       "      <td>Berkeley Civic Center</td>\n",
       "      <td>37.869060</td>\n",
       "      <td>-122.270556</td>\n",
       "      <td>241.0</td>\n",
       "      <td>Ashby BART Station</td>\n",
       "      <td>37.852477</td>\n",
       "      <td>-122.270213</td>\n",
       "      <td>2608</td>\n",
       "      <td>Customer</td>\n",
       "      <td>NaN</td>\n",
       "      <td>NaN</td>\n",
       "      <td>No</td>\n",
       "      <td>Tue</td>\n",
       "      <td>30</td>\n",
       "      <td>20</td>\n",
       "    </tr>\n",
       "    <tr>\n",
       "      <th>2</th>\n",
       "      <td>78072</td>\n",
       "      <td>2019-04-30 10:32:46.489</td>\n",
       "      <td>2019-05-01 08:13:58.975</td>\n",
       "      <td>64.0</td>\n",
       "      <td>5th St at Brannan St</td>\n",
       "      <td>37.776754</td>\n",
       "      <td>-122.399018</td>\n",
       "      <td>64.0</td>\n",
       "      <td>5th St at Brannan St</td>\n",
       "      <td>37.776754</td>\n",
       "      <td>-122.399018</td>\n",
       "      <td>258</td>\n",
       "      <td>Subscriber</td>\n",
       "      <td>1993.0</td>\n",
       "      <td>Male</td>\n",
       "      <td>No</td>\n",
       "      <td>Tue</td>\n",
       "      <td>30</td>\n",
       "      <td>10</td>\n",
       "    </tr>\n",
       "    <tr>\n",
       "      <th>3</th>\n",
       "      <td>78969</td>\n",
       "      <td>2019-04-30 10:00:51.550</td>\n",
       "      <td>2019-05-01 07:57:01.262</td>\n",
       "      <td>67.0</td>\n",
       "      <td>San Francisco Caltrain Station 2  (Townsend St...</td>\n",
       "      <td>37.776639</td>\n",
       "      <td>-122.395526</td>\n",
       "      <td>89.0</td>\n",
       "      <td>Division St at Potrero Ave</td>\n",
       "      <td>37.769218</td>\n",
       "      <td>-122.407646</td>\n",
       "      <td>1974</td>\n",
       "      <td>Subscriber</td>\n",
       "      <td>1972.0</td>\n",
       "      <td>Male</td>\n",
       "      <td>No</td>\n",
       "      <td>Tue</td>\n",
       "      <td>30</td>\n",
       "      <td>10</td>\n",
       "    </tr>\n",
       "    <tr>\n",
       "      <th>4</th>\n",
       "      <td>1128</td>\n",
       "      <td>2019-04-30 23:59:04.739</td>\n",
       "      <td>2019-05-01 00:17:53.091</td>\n",
       "      <td>124.0</td>\n",
       "      <td>19th St at Florida St</td>\n",
       "      <td>37.760447</td>\n",
       "      <td>-122.410807</td>\n",
       "      <td>5.0</td>\n",
       "      <td>Powell St BART Station (Market St at 5th St)</td>\n",
       "      <td>37.783899</td>\n",
       "      <td>-122.408445</td>\n",
       "      <td>877</td>\n",
       "      <td>Subscriber</td>\n",
       "      <td>1973.0</td>\n",
       "      <td>Male</td>\n",
       "      <td>No</td>\n",
       "      <td>Tue</td>\n",
       "      <td>30</td>\n",
       "      <td>23</td>\n",
       "    </tr>\n",
       "  </tbody>\n",
       "</table>\n",
       "</div>"
      ],
      "text/plain": [
       "   duration_sec              start_time                end_time  \\\n",
       "0         50305 2019-04-30 22:33:55.155 2019-05-01 12:32:20.454   \n",
       "1         53725 2019-04-30 20:43:41.632 2019-05-01 11:39:06.917   \n",
       "2         78072 2019-04-30 10:32:46.489 2019-05-01 08:13:58.975   \n",
       "3         78969 2019-04-30 10:00:51.550 2019-05-01 07:57:01.262   \n",
       "4          1128 2019-04-30 23:59:04.739 2019-05-01 00:17:53.091   \n",
       "\n",
       "  start_station_id                                 start_station_name  \\\n",
       "0            368.0                               Myrtle St at Polk St   \n",
       "1            246.0                              Berkeley Civic Center   \n",
       "2             64.0                               5th St at Brannan St   \n",
       "3             67.0  San Francisco Caltrain Station 2  (Townsend St...   \n",
       "4            124.0                              19th St at Florida St   \n",
       "\n",
       "   start_station_latitude  start_station_longitude end_station_id  \\\n",
       "0               37.785434              -122.419622          324.0   \n",
       "1               37.869060              -122.270556          241.0   \n",
       "2               37.776754              -122.399018           64.0   \n",
       "3               37.776639              -122.395526           89.0   \n",
       "4               37.760447              -122.410807            5.0   \n",
       "\n",
       "                               end_station_name  end_station_latitude  \\\n",
       "0           Union Square (Powell St at Post St)             37.788300   \n",
       "1                            Ashby BART Station             37.852477   \n",
       "2                          5th St at Brannan St             37.776754   \n",
       "3                    Division St at Potrero Ave             37.769218   \n",
       "4  Powell St BART Station (Market St at 5th St)             37.783899   \n",
       "\n",
       "   end_station_longitude bike_id   user_type  member_birth_year member_gender  \\\n",
       "0            -122.408531    2749  Subscriber             1989.0        Female   \n",
       "1            -122.270213    2608    Customer                NaN           NaN   \n",
       "2            -122.399018     258  Subscriber             1993.0          Male   \n",
       "3            -122.407646    1974  Subscriber             1972.0          Male   \n",
       "4            -122.408445     877  Subscriber             1973.0          Male   \n",
       "\n",
       "  bike_share_for_all_trip start_time_weekday  start_time_day  start_time_hour  \n",
       "0                      No                Tue              30               22  \n",
       "1                      No                Tue              30               20  \n",
       "2                      No                Tue              30               10  \n",
       "3                      No                Tue              30               10  \n",
       "4                      No                Tue              30               23  "
      ]
     },
     "execution_count": 16,
     "metadata": {},
     "output_type": "execute_result"
    }
   ],
   "source": [
    "#check the dataframe\n",
    "df_clean.head()"
   ]
  },
  {
   "cell_type": "markdown",
   "metadata": {},
   "source": [
    "#### Rows containing null data for member_birth_year and member_gender should be removed"
   ]
  },
  {
   "cell_type": "code",
   "execution_count": 17,
   "metadata": {},
   "outputs": [],
   "source": [
    "#dropping the all rows containing null data\n",
    "df_clean.dropna(inplace=True)"
   ]
  },
  {
   "cell_type": "code",
   "execution_count": 18,
   "metadata": {
    "scrolled": false
   },
   "outputs": [
    {
     "name": "stdout",
     "output_type": "stream",
     "text": [
      "<class 'pandas.core.frame.DataFrame'>\n",
      "Int64Index: 227848 entries, 0 to 239110\n",
      "Data columns (total 19 columns):\n",
      "duration_sec               227848 non-null int64\n",
      "start_time                 227848 non-null datetime64[ns]\n",
      "end_time                   227848 non-null datetime64[ns]\n",
      "start_station_id           227848 non-null object\n",
      "start_station_name         227848 non-null object\n",
      "start_station_latitude     227848 non-null float64\n",
      "start_station_longitude    227848 non-null float64\n",
      "end_station_id             227848 non-null object\n",
      "end_station_name           227848 non-null object\n",
      "end_station_latitude       227848 non-null float64\n",
      "end_station_longitude      227848 non-null float64\n",
      "bike_id                    227848 non-null object\n",
      "user_type                  227848 non-null category\n",
      "member_birth_year          227848 non-null float64\n",
      "member_gender              227848 non-null object\n",
      "bike_share_for_all_trip    227848 non-null category\n",
      "start_time_weekday         227848 non-null object\n",
      "start_time_day             227848 non-null int32\n",
      "start_time_hour            227848 non-null int64\n",
      "dtypes: category(2), datetime64[ns](2), float64(5), int32(1), int64(2), object(7)\n",
      "memory usage: 30.9+ MB\n"
     ]
    }
   ],
   "source": [
    "df_clean.info()"
   ]
  },
  {
   "cell_type": "markdown",
   "metadata": {},
   "source": [
    "### we can calculate the distance for rides between stations\n",
    "Haversine formula used to calculate distances using latitude and longitude\n",
    "\n",
    "https://www.movable-type.co.uk/scripts/latlong.html"
   ]
  },
  {
   "cell_type": "code",
   "execution_count": 19,
   "metadata": {},
   "outputs": [],
   "source": [
    "#create a function to calculate distance (in kilometers)\n",
    "import math\n",
    "from math import radians, sin, cos, acos\n",
    "\n",
    "def distance(origin, destination):\n",
    "\n",
    "    lat1, long1 = origin\n",
    "    lat2, long2 = destination\n",
    "    radius = 6371\n",
    "\n",
    "    dlat = math.radians(lat2 - lat1)\n",
    "    dlong = math.radians(long2 - long1)\n",
    "    \n",
    "    a = (math.sin(dlat / 2) * math.sin(dlat / 2) + math.cos(math.radians(lat1)) * math.cos(math.radians(lat2)) * math.sin(dlong / 2) * math.sin(dlong / 2))\n",
    "    c = 2 * math.atan2(math.sqrt(a), math.sqrt(1 - a))\n",
    "    d = radius * c\n",
    "\n",
    "    return d"
   ]
  },
  {
   "cell_type": "code",
   "execution_count": 20,
   "metadata": {},
   "outputs": [],
   "source": [
    "# Using the calcuated math on our columns for lat and long\n",
    "df_clean['distance_km'] = df_clean.apply(lambda x: distance((x['start_station_latitude'], x['start_station_longitude']), (x['end_station_latitude'], x['end_station_longitude'])), axis=1)"
   ]
  },
  {
   "cell_type": "code",
   "execution_count": 21,
   "metadata": {},
   "outputs": [
    {
     "data": {
      "text/html": [
       "<div>\n",
       "<style scoped>\n",
       "    .dataframe tbody tr th:only-of-type {\n",
       "        vertical-align: middle;\n",
       "    }\n",
       "\n",
       "    .dataframe tbody tr th {\n",
       "        vertical-align: top;\n",
       "    }\n",
       "\n",
       "    .dataframe thead th {\n",
       "        text-align: right;\n",
       "    }\n",
       "</style>\n",
       "<table border=\"1\" class=\"dataframe\">\n",
       "  <thead>\n",
       "    <tr style=\"text-align: right;\">\n",
       "      <th></th>\n",
       "      <th>duration_sec</th>\n",
       "      <th>start_time</th>\n",
       "      <th>end_time</th>\n",
       "      <th>start_station_id</th>\n",
       "      <th>start_station_name</th>\n",
       "      <th>start_station_latitude</th>\n",
       "      <th>start_station_longitude</th>\n",
       "      <th>end_station_id</th>\n",
       "      <th>end_station_name</th>\n",
       "      <th>end_station_latitude</th>\n",
       "      <th>end_station_longitude</th>\n",
       "      <th>bike_id</th>\n",
       "      <th>user_type</th>\n",
       "      <th>member_birth_year</th>\n",
       "      <th>member_gender</th>\n",
       "      <th>bike_share_for_all_trip</th>\n",
       "      <th>start_time_weekday</th>\n",
       "      <th>start_time_day</th>\n",
       "      <th>start_time_hour</th>\n",
       "      <th>distance_km</th>\n",
       "    </tr>\n",
       "  </thead>\n",
       "  <tbody>\n",
       "    <tr>\n",
       "      <th>0</th>\n",
       "      <td>50305</td>\n",
       "      <td>2019-04-30 22:33:55.155</td>\n",
       "      <td>2019-05-01 12:32:20.454</td>\n",
       "      <td>368.0</td>\n",
       "      <td>Myrtle St at Polk St</td>\n",
       "      <td>37.785434</td>\n",
       "      <td>-122.419622</td>\n",
       "      <td>324.0</td>\n",
       "      <td>Union Square (Powell St at Post St)</td>\n",
       "      <td>37.788300</td>\n",
       "      <td>-122.408531</td>\n",
       "      <td>2749</td>\n",
       "      <td>Subscriber</td>\n",
       "      <td>1989.0</td>\n",
       "      <td>Female</td>\n",
       "      <td>No</td>\n",
       "      <td>Tue</td>\n",
       "      <td>30</td>\n",
       "      <td>22</td>\n",
       "      <td>1.025420</td>\n",
       "    </tr>\n",
       "    <tr>\n",
       "      <th>2</th>\n",
       "      <td>78072</td>\n",
       "      <td>2019-04-30 10:32:46.489</td>\n",
       "      <td>2019-05-01 08:13:58.975</td>\n",
       "      <td>64.0</td>\n",
       "      <td>5th St at Brannan St</td>\n",
       "      <td>37.776754</td>\n",
       "      <td>-122.399018</td>\n",
       "      <td>64.0</td>\n",
       "      <td>5th St at Brannan St</td>\n",
       "      <td>37.776754</td>\n",
       "      <td>-122.399018</td>\n",
       "      <td>258</td>\n",
       "      <td>Subscriber</td>\n",
       "      <td>1993.0</td>\n",
       "      <td>Male</td>\n",
       "      <td>No</td>\n",
       "      <td>Tue</td>\n",
       "      <td>30</td>\n",
       "      <td>10</td>\n",
       "      <td>0.000000</td>\n",
       "    </tr>\n",
       "    <tr>\n",
       "      <th>3</th>\n",
       "      <td>78969</td>\n",
       "      <td>2019-04-30 10:00:51.550</td>\n",
       "      <td>2019-05-01 07:57:01.262</td>\n",
       "      <td>67.0</td>\n",
       "      <td>San Francisco Caltrain Station 2  (Townsend St...</td>\n",
       "      <td>37.776639</td>\n",
       "      <td>-122.395526</td>\n",
       "      <td>89.0</td>\n",
       "      <td>Division St at Potrero Ave</td>\n",
       "      <td>37.769218</td>\n",
       "      <td>-122.407646</td>\n",
       "      <td>1974</td>\n",
       "      <td>Subscriber</td>\n",
       "      <td>1972.0</td>\n",
       "      <td>Male</td>\n",
       "      <td>No</td>\n",
       "      <td>Tue</td>\n",
       "      <td>30</td>\n",
       "      <td>10</td>\n",
       "      <td>1.347458</td>\n",
       "    </tr>\n",
       "    <tr>\n",
       "      <th>4</th>\n",
       "      <td>1128</td>\n",
       "      <td>2019-04-30 23:59:04.739</td>\n",
       "      <td>2019-05-01 00:17:53.091</td>\n",
       "      <td>124.0</td>\n",
       "      <td>19th St at Florida St</td>\n",
       "      <td>37.760447</td>\n",
       "      <td>-122.410807</td>\n",
       "      <td>5.0</td>\n",
       "      <td>Powell St BART Station (Market St at 5th St)</td>\n",
       "      <td>37.783899</td>\n",
       "      <td>-122.408445</td>\n",
       "      <td>877</td>\n",
       "      <td>Subscriber</td>\n",
       "      <td>1973.0</td>\n",
       "      <td>Male</td>\n",
       "      <td>No</td>\n",
       "      <td>Tue</td>\n",
       "      <td>30</td>\n",
       "      <td>23</td>\n",
       "      <td>2.616046</td>\n",
       "    </tr>\n",
       "    <tr>\n",
       "      <th>5</th>\n",
       "      <td>1388</td>\n",
       "      <td>2019-04-30 23:53:05.982</td>\n",
       "      <td>2019-05-01 00:16:14.313</td>\n",
       "      <td>243.0</td>\n",
       "      <td>Bancroft Way at College Ave</td>\n",
       "      <td>37.869360</td>\n",
       "      <td>-122.254337</td>\n",
       "      <td>247.0</td>\n",
       "      <td>Fulton St at Bancroft Way</td>\n",
       "      <td>37.867789</td>\n",
       "      <td>-122.265896</td>\n",
       "      <td>3234</td>\n",
       "      <td>Customer</td>\n",
       "      <td>1997.0</td>\n",
       "      <td>Male</td>\n",
       "      <td>No</td>\n",
       "      <td>Tue</td>\n",
       "      <td>30</td>\n",
       "      <td>23</td>\n",
       "      <td>1.029574</td>\n",
       "    </tr>\n",
       "  </tbody>\n",
       "</table>\n",
       "</div>"
      ],
      "text/plain": [
       "   duration_sec              start_time                end_time  \\\n",
       "0         50305 2019-04-30 22:33:55.155 2019-05-01 12:32:20.454   \n",
       "2         78072 2019-04-30 10:32:46.489 2019-05-01 08:13:58.975   \n",
       "3         78969 2019-04-30 10:00:51.550 2019-05-01 07:57:01.262   \n",
       "4          1128 2019-04-30 23:59:04.739 2019-05-01 00:17:53.091   \n",
       "5          1388 2019-04-30 23:53:05.982 2019-05-01 00:16:14.313   \n",
       "\n",
       "  start_station_id                                 start_station_name  \\\n",
       "0            368.0                               Myrtle St at Polk St   \n",
       "2             64.0                               5th St at Brannan St   \n",
       "3             67.0  San Francisco Caltrain Station 2  (Townsend St...   \n",
       "4            124.0                              19th St at Florida St   \n",
       "5            243.0                        Bancroft Way at College Ave   \n",
       "\n",
       "   start_station_latitude  start_station_longitude end_station_id  \\\n",
       "0               37.785434              -122.419622          324.0   \n",
       "2               37.776754              -122.399018           64.0   \n",
       "3               37.776639              -122.395526           89.0   \n",
       "4               37.760447              -122.410807            5.0   \n",
       "5               37.869360              -122.254337          247.0   \n",
       "\n",
       "                               end_station_name  end_station_latitude  \\\n",
       "0           Union Square (Powell St at Post St)             37.788300   \n",
       "2                          5th St at Brannan St             37.776754   \n",
       "3                    Division St at Potrero Ave             37.769218   \n",
       "4  Powell St BART Station (Market St at 5th St)             37.783899   \n",
       "5                     Fulton St at Bancroft Way             37.867789   \n",
       "\n",
       "   end_station_longitude bike_id   user_type  member_birth_year member_gender  \\\n",
       "0            -122.408531    2749  Subscriber             1989.0        Female   \n",
       "2            -122.399018     258  Subscriber             1993.0          Male   \n",
       "3            -122.407646    1974  Subscriber             1972.0          Male   \n",
       "4            -122.408445     877  Subscriber             1973.0          Male   \n",
       "5            -122.265896    3234    Customer             1997.0          Male   \n",
       "\n",
       "  bike_share_for_all_trip start_time_weekday  start_time_day  start_time_hour  \\\n",
       "0                      No                Tue              30               22   \n",
       "2                      No                Tue              30               10   \n",
       "3                      No                Tue              30               10   \n",
       "4                      No                Tue              30               23   \n",
       "5                      No                Tue              30               23   \n",
       "\n",
       "   distance_km  \n",
       "0     1.025420  \n",
       "2     0.000000  \n",
       "3     1.347458  \n",
       "4     2.616046  \n",
       "5     1.029574  "
      ]
     },
     "execution_count": 21,
     "metadata": {},
     "output_type": "execute_result"
    }
   ],
   "source": [
    "#check the result\n",
    "df_clean.head()"
   ]
  },
  {
   "cell_type": "markdown",
   "metadata": {},
   "source": [
    "######  Member birth year is in the float format, but should be converted to integer format"
   ]
  },
  {
   "cell_type": "code",
   "execution_count": 22,
   "metadata": {},
   "outputs": [],
   "source": [
    "#converting birth year to integer\n",
    "df_clean.member_birth_year = df_clean.member_birth_year.astype('int64')"
   ]
  },
  {
   "cell_type": "code",
   "execution_count": 23,
   "metadata": {},
   "outputs": [
    {
     "name": "stdout",
     "output_type": "stream",
     "text": [
      "<class 'pandas.core.frame.DataFrame'>\n",
      "Int64Index: 227848 entries, 0 to 239110\n",
      "Data columns (total 20 columns):\n",
      "duration_sec               227848 non-null int64\n",
      "start_time                 227848 non-null datetime64[ns]\n",
      "end_time                   227848 non-null datetime64[ns]\n",
      "start_station_id           227848 non-null object\n",
      "start_station_name         227848 non-null object\n",
      "start_station_latitude     227848 non-null float64\n",
      "start_station_longitude    227848 non-null float64\n",
      "end_station_id             227848 non-null object\n",
      "end_station_name           227848 non-null object\n",
      "end_station_latitude       227848 non-null float64\n",
      "end_station_longitude      227848 non-null float64\n",
      "bike_id                    227848 non-null object\n",
      "user_type                  227848 non-null category\n",
      "member_birth_year          227848 non-null int64\n",
      "member_gender              227848 non-null object\n",
      "bike_share_for_all_trip    227848 non-null category\n",
      "start_time_weekday         227848 non-null object\n",
      "start_time_day             227848 non-null int32\n",
      "start_time_hour            227848 non-null int64\n",
      "distance_km                227848 non-null float64\n",
      "dtypes: category(2), datetime64[ns](2), float64(5), int32(1), int64(3), object(7)\n",
      "memory usage: 32.6+ MB\n"
     ]
    }
   ],
   "source": [
    "df_clean.info()"
   ]
  },
  {
   "cell_type": "code",
   "execution_count": 24,
   "metadata": {},
   "outputs": [],
   "source": [
    "#adding a member age column\n",
    "df_clean['member_age'] = 2019 - df_clean['member_birth_year']"
   ]
  },
  {
   "cell_type": "code",
   "execution_count": 25,
   "metadata": {},
   "outputs": [
    {
     "data": {
      "text/html": [
       "<div>\n",
       "<style scoped>\n",
       "    .dataframe tbody tr th:only-of-type {\n",
       "        vertical-align: middle;\n",
       "    }\n",
       "\n",
       "    .dataframe tbody tr th {\n",
       "        vertical-align: top;\n",
       "    }\n",
       "\n",
       "    .dataframe thead th {\n",
       "        text-align: right;\n",
       "    }\n",
       "</style>\n",
       "<table border=\"1\" class=\"dataframe\">\n",
       "  <thead>\n",
       "    <tr style=\"text-align: right;\">\n",
       "      <th></th>\n",
       "      <th>duration_sec</th>\n",
       "      <th>start_time</th>\n",
       "      <th>end_time</th>\n",
       "      <th>start_station_id</th>\n",
       "      <th>start_station_name</th>\n",
       "      <th>start_station_latitude</th>\n",
       "      <th>start_station_longitude</th>\n",
       "      <th>end_station_id</th>\n",
       "      <th>end_station_name</th>\n",
       "      <th>end_station_latitude</th>\n",
       "      <th>...</th>\n",
       "      <th>bike_id</th>\n",
       "      <th>user_type</th>\n",
       "      <th>member_birth_year</th>\n",
       "      <th>member_gender</th>\n",
       "      <th>bike_share_for_all_trip</th>\n",
       "      <th>start_time_weekday</th>\n",
       "      <th>start_time_day</th>\n",
       "      <th>start_time_hour</th>\n",
       "      <th>distance_km</th>\n",
       "      <th>member_age</th>\n",
       "    </tr>\n",
       "  </thead>\n",
       "  <tbody>\n",
       "    <tr>\n",
       "      <th>0</th>\n",
       "      <td>50305</td>\n",
       "      <td>2019-04-30 22:33:55.155</td>\n",
       "      <td>2019-05-01 12:32:20.454</td>\n",
       "      <td>368.0</td>\n",
       "      <td>Myrtle St at Polk St</td>\n",
       "      <td>37.785434</td>\n",
       "      <td>-122.419622</td>\n",
       "      <td>324.0</td>\n",
       "      <td>Union Square (Powell St at Post St)</td>\n",
       "      <td>37.788300</td>\n",
       "      <td>...</td>\n",
       "      <td>2749</td>\n",
       "      <td>Subscriber</td>\n",
       "      <td>1989</td>\n",
       "      <td>Female</td>\n",
       "      <td>No</td>\n",
       "      <td>Tue</td>\n",
       "      <td>30</td>\n",
       "      <td>22</td>\n",
       "      <td>1.025420</td>\n",
       "      <td>30</td>\n",
       "    </tr>\n",
       "    <tr>\n",
       "      <th>2</th>\n",
       "      <td>78072</td>\n",
       "      <td>2019-04-30 10:32:46.489</td>\n",
       "      <td>2019-05-01 08:13:58.975</td>\n",
       "      <td>64.0</td>\n",
       "      <td>5th St at Brannan St</td>\n",
       "      <td>37.776754</td>\n",
       "      <td>-122.399018</td>\n",
       "      <td>64.0</td>\n",
       "      <td>5th St at Brannan St</td>\n",
       "      <td>37.776754</td>\n",
       "      <td>...</td>\n",
       "      <td>258</td>\n",
       "      <td>Subscriber</td>\n",
       "      <td>1993</td>\n",
       "      <td>Male</td>\n",
       "      <td>No</td>\n",
       "      <td>Tue</td>\n",
       "      <td>30</td>\n",
       "      <td>10</td>\n",
       "      <td>0.000000</td>\n",
       "      <td>26</td>\n",
       "    </tr>\n",
       "    <tr>\n",
       "      <th>3</th>\n",
       "      <td>78969</td>\n",
       "      <td>2019-04-30 10:00:51.550</td>\n",
       "      <td>2019-05-01 07:57:01.262</td>\n",
       "      <td>67.0</td>\n",
       "      <td>San Francisco Caltrain Station 2  (Townsend St...</td>\n",
       "      <td>37.776639</td>\n",
       "      <td>-122.395526</td>\n",
       "      <td>89.0</td>\n",
       "      <td>Division St at Potrero Ave</td>\n",
       "      <td>37.769218</td>\n",
       "      <td>...</td>\n",
       "      <td>1974</td>\n",
       "      <td>Subscriber</td>\n",
       "      <td>1972</td>\n",
       "      <td>Male</td>\n",
       "      <td>No</td>\n",
       "      <td>Tue</td>\n",
       "      <td>30</td>\n",
       "      <td>10</td>\n",
       "      <td>1.347458</td>\n",
       "      <td>47</td>\n",
       "    </tr>\n",
       "    <tr>\n",
       "      <th>4</th>\n",
       "      <td>1128</td>\n",
       "      <td>2019-04-30 23:59:04.739</td>\n",
       "      <td>2019-05-01 00:17:53.091</td>\n",
       "      <td>124.0</td>\n",
       "      <td>19th St at Florida St</td>\n",
       "      <td>37.760447</td>\n",
       "      <td>-122.410807</td>\n",
       "      <td>5.0</td>\n",
       "      <td>Powell St BART Station (Market St at 5th St)</td>\n",
       "      <td>37.783899</td>\n",
       "      <td>...</td>\n",
       "      <td>877</td>\n",
       "      <td>Subscriber</td>\n",
       "      <td>1973</td>\n",
       "      <td>Male</td>\n",
       "      <td>No</td>\n",
       "      <td>Tue</td>\n",
       "      <td>30</td>\n",
       "      <td>23</td>\n",
       "      <td>2.616046</td>\n",
       "      <td>46</td>\n",
       "    </tr>\n",
       "    <tr>\n",
       "      <th>5</th>\n",
       "      <td>1388</td>\n",
       "      <td>2019-04-30 23:53:05.982</td>\n",
       "      <td>2019-05-01 00:16:14.313</td>\n",
       "      <td>243.0</td>\n",
       "      <td>Bancroft Way at College Ave</td>\n",
       "      <td>37.869360</td>\n",
       "      <td>-122.254337</td>\n",
       "      <td>247.0</td>\n",
       "      <td>Fulton St at Bancroft Way</td>\n",
       "      <td>37.867789</td>\n",
       "      <td>...</td>\n",
       "      <td>3234</td>\n",
       "      <td>Customer</td>\n",
       "      <td>1997</td>\n",
       "      <td>Male</td>\n",
       "      <td>No</td>\n",
       "      <td>Tue</td>\n",
       "      <td>30</td>\n",
       "      <td>23</td>\n",
       "      <td>1.029574</td>\n",
       "      <td>22</td>\n",
       "    </tr>\n",
       "  </tbody>\n",
       "</table>\n",
       "<p>5 rows × 21 columns</p>\n",
       "</div>"
      ],
      "text/plain": [
       "   duration_sec              start_time                end_time  \\\n",
       "0         50305 2019-04-30 22:33:55.155 2019-05-01 12:32:20.454   \n",
       "2         78072 2019-04-30 10:32:46.489 2019-05-01 08:13:58.975   \n",
       "3         78969 2019-04-30 10:00:51.550 2019-05-01 07:57:01.262   \n",
       "4          1128 2019-04-30 23:59:04.739 2019-05-01 00:17:53.091   \n",
       "5          1388 2019-04-30 23:53:05.982 2019-05-01 00:16:14.313   \n",
       "\n",
       "  start_station_id                                 start_station_name  \\\n",
       "0            368.0                               Myrtle St at Polk St   \n",
       "2             64.0                               5th St at Brannan St   \n",
       "3             67.0  San Francisco Caltrain Station 2  (Townsend St...   \n",
       "4            124.0                              19th St at Florida St   \n",
       "5            243.0                        Bancroft Way at College Ave   \n",
       "\n",
       "   start_station_latitude  start_station_longitude end_station_id  \\\n",
       "0               37.785434              -122.419622          324.0   \n",
       "2               37.776754              -122.399018           64.0   \n",
       "3               37.776639              -122.395526           89.0   \n",
       "4               37.760447              -122.410807            5.0   \n",
       "5               37.869360              -122.254337          247.0   \n",
       "\n",
       "                               end_station_name  end_station_latitude  \\\n",
       "0           Union Square (Powell St at Post St)             37.788300   \n",
       "2                          5th St at Brannan St             37.776754   \n",
       "3                    Division St at Potrero Ave             37.769218   \n",
       "4  Powell St BART Station (Market St at 5th St)             37.783899   \n",
       "5                     Fulton St at Bancroft Way             37.867789   \n",
       "\n",
       "      ...      bike_id   user_type member_birth_year  member_gender  \\\n",
       "0     ...         2749  Subscriber              1989         Female   \n",
       "2     ...          258  Subscriber              1993           Male   \n",
       "3     ...         1974  Subscriber              1972           Male   \n",
       "4     ...          877  Subscriber              1973           Male   \n",
       "5     ...         3234    Customer              1997           Male   \n",
       "\n",
       "  bike_share_for_all_trip start_time_weekday start_time_day  start_time_hour  \\\n",
       "0                      No                Tue             30               22   \n",
       "2                      No                Tue             30               10   \n",
       "3                      No                Tue             30               10   \n",
       "4                      No                Tue             30               23   \n",
       "5                      No                Tue             30               23   \n",
       "\n",
       "   distance_km  member_age  \n",
       "0     1.025420          30  \n",
       "2     0.000000          26  \n",
       "3     1.347458          47  \n",
       "4     2.616046          46  \n",
       "5     1.029574          22  \n",
       "\n",
       "[5 rows x 21 columns]"
      ]
     },
     "execution_count": 25,
     "metadata": {},
     "output_type": "execute_result"
    }
   ],
   "source": [
    "#test\n",
    "df_clean.head()"
   ]
  },
  {
   "cell_type": "code",
   "execution_count": 26,
   "metadata": {},
   "outputs": [
    {
     "data": {
      "text/plain": [
       "count    227848.000000\n",
       "mean         34.137552\n",
       "std           9.953599\n",
       "min          18.000000\n",
       "25%          27.000000\n",
       "50%          32.000000\n",
       "75%          39.000000\n",
       "max         141.000000\n",
       "Name: member_age, dtype: float64"
      ]
     },
     "execution_count": 26,
     "metadata": {},
     "output_type": "execute_result"
    }
   ],
   "source": [
    "df_clean.member_age.describe()"
   ]
  },
  {
   "cell_type": "markdown",
   "metadata": {},
   "source": [
    "It looks like 75% of the user is under 40 years old"
   ]
  },
  {
   "cell_type": "code",
   "execution_count": 27,
   "metadata": {},
   "outputs": [
    {
     "data": {
      "text/plain": [
       "count    227848.000000\n",
       "mean         34.137552\n",
       "std           9.953599\n",
       "min          18.000000\n",
       "50%          32.000000\n",
       "99%          63.000000\n",
       "max         141.000000\n",
       "Name: member_age, dtype: float64"
      ]
     },
     "execution_count": 27,
     "metadata": {},
     "output_type": "execute_result"
    }
   ],
   "source": [
    "df_clean.member_age.describe(percentiles = [.99])"
   ]
  },
  {
   "cell_type": "markdown",
   "metadata": {},
   "source": [
    "99% of the user is under the age of 64. Outlier above 64 (1%) should be removed"
   ]
  },
  {
   "cell_type": "code",
   "execution_count": 28,
   "metadata": {},
   "outputs": [],
   "source": [
    "# Only keep the events where people are under 64 years of age\n",
    "df_clean = df_clean.query('member_age <= 64')"
   ]
  },
  {
   "cell_type": "code",
   "execution_count": 29,
   "metadata": {},
   "outputs": [],
   "source": [
    "# save cleaned data \n",
    "df_clean.to_csv('clean_master_file.csv', index=False)"
   ]
  },
  {
   "cell_type": "markdown",
   "metadata": {},
   "source": [
    "### What is the structure of your dataset?\n",
    "\n",
    "The dataset contained features about:\n",
    "\n",
    "trip duration: start/end time, how long the trip took in seconds\n",
    "stations: start/end station, name, geolocation (latitude/longitude)\n",
    "user type\n",
    "rented bikes: bike id\n",
    "The dataset was further enhanced with features that I may find neccessary to perform interesting analysis:\n",
    "\n",
    "rental time: month, day, hour of the day, weekday (both for start and end date)\n",
    "\n",
    "The following columns were added:\n",
    "\n",
    "- start_time_weekday\t\n",
    "- start_time_day\n",
    "- start_time_hour\n",
    "- distance_km\n",
    "### What is/are the main feature(s) of interest in your dataset?\n",
    "\n",
    "- When and where bikes are high in demand (during the day/weekday/month)\n",
    "- Which type of user use the service most (customer vs subscriber)\n",
    "\n",
    "### What features in the dataset do you think will help support your investigation into your feature(s) of interest?\n",
    "\n",
    "Start time, location and datetime probably might have the most notable effect on bike demand"
   ]
  },
  {
   "cell_type": "markdown",
   "metadata": {},
   "source": [
    "## Univariate Exploration"
   ]
  },
  {
   "cell_type": "code",
   "execution_count": 30,
   "metadata": {},
   "outputs": [
    {
     "data": {
      "image/png": "[encoded data removed]",
      "text/plain": [
       "<Figure size 360x360 with 1 Axes>"
      ]
     },
     "metadata": {
      "needs_background": "light"
     },
     "output_type": "display_data"
    }
   ],
   "source": [
    "# weekday usege of the bike sharing system\n",
    "\n",
    "weekday = ['Mon', 'Tue', 'Wed', 'Thu', 'Fri', 'Sat', 'Sun']\n",
    "g = sb.catplot(data=df_clean, x='start_time_weekday', kind='count', color = 'blue', order = weekday)\n",
    "g.set_axis_labels(\"Weekdays\", \"#Bike Trips\")\n",
    "g.fig.suptitle('Weekly usage of the bike share system', y=1.03, fontsize=14, fontweight='semibold');"
   ]
  },
  {
   "cell_type": "markdown",
   "metadata": {},
   "source": [
    "The bike share system is mainly used during weekdays, with Tuesday as the most popular day. The system is most probably used as a daily work/school commute."
   ]
  },
  {
   "cell_type": "code",
   "execution_count": 31,
   "metadata": {
    "scrolled": false
   },
   "outputs": [
    {
     "data": {
      "image/png": "[encoded data removed]",
      "text/plain": [
       "<Figure size 360x360 with 1 Axes>"
      ]
     },
     "metadata": {
      "needs_background": "light"
     },
     "output_type": "display_data"
    }
   ],
   "source": [
    "# hourly usage of the bike sharing system\n",
    "\n",
    "g = sb.catplot(data=df_clean, x='start_time_hour', kind='count', color = 'b')\n",
    "g.set_axis_labels(\"Hours\", \"#Bike Trips\")\n",
    "g.fig.suptitle('Hourly usage of the bike share system', y=1.03, fontsize=14, fontweight='semibold');"
   ]
  },
  {
   "cell_type": "markdown",
   "metadata": {},
   "source": [
    "The hourly distribution is bimodal, the system is used mainly around 8-9am and 5-6pm when people get to and gat back from work."
   ]
  },
  {
   "cell_type": "code",
   "execution_count": 32,
   "metadata": {},
   "outputs": [
    {
     "data": {
      "image/png": "[encoded data removed]",
      "text/plain": [
       "<Figure size 432x288 with 1 Axes>"
      ]
     },
     "metadata": {
      "needs_background": "light"
     },
     "output_type": "display_data"
    }
   ],
   "source": [
    "# histogram for duration (sec) distribution per user type\n",
    "\n",
    "bin_edges = np.arange(0, 3600,60)\n",
    "\n",
    "plt.hist(data = df_clean, x = 'duration_sec', bins = bin_edges)\n",
    "\n",
    "plt.title(\"Trip duration (sec) histogram\", y=1.03, fontsize=14, fontweight='semibold')\n",
    "plt.xlabel('Duration(Sec)')\n",
    "plt.ylabel('Frequency');"
   ]
  },
  {
   "cell_type": "markdown",
   "metadata": {},
   "source": [
    "Looking at the histogram, we can see that trip durations are no longer than 33 min (2000 sec) and usually last 6 to 15 min. \n",
    "Most people seems to use it for roughly 15 mins (1000 secs)"
   ]
  },
  {
   "cell_type": "code",
   "execution_count": 33,
   "metadata": {},
   "outputs": [
    {
     "data": {
      "image/png": "[encoded data removed]",
      "text/plain": [
       "<Figure size 432x288 with 1 Axes>"
      ]
     },
     "metadata": {
      "needs_background": "light"
     },
     "output_type": "display_data"
    }
   ],
   "source": [
    "# Distance in kilometers traveled\n",
    "bin_edges = np.arange(0, 10, 1)\n",
    "\n",
    "plt.hist(data = df_clean, x = 'distance_km', bins = bin_edges);\n",
    "\n",
    "plt.title(\"Ford GoBike System Trip Distance (kilometer)\", y=1.05, fontsize=16, fontweight='bold')\n",
    "plt.xlabel('Distance (Kilometer)')\n",
    "plt.ylabel('Number of Bike Trips');"
   ]
  },
  {
   "cell_type": "markdown",
   "metadata": {},
   "source": [
    "It looks like that the majority of the trip is between 0 - 2 km"
   ]
  },
  {
   "cell_type": "code",
   "execution_count": 57,
   "metadata": {},
   "outputs": [
    {
     "data": {
      "image/png": "[encoded data removed]",
      "text/plain": [
       "<Figure size 432x288 with 1 Axes>"
      ]
     },
     "metadata": {
      "needs_background": "light"
     },
     "output_type": "display_data"
    }
   ],
   "source": [
    "# Usage by age\n",
    "bin_edges = np.arange(0, 64, 5)\n",
    "\n",
    "plt.hist(data = df_clean, x = 'member_age', bins = bin_edges);\n",
    "\n",
    "plt.title(\"Ford GoBike System User by Age\", y=1.05, fontsize=16, fontweight='bold')\n",
    "plt.xlabel('Age of Members (Years)')\n",
    "plt.ylabel('Number of Bike Trips');"
   ]
  },
  {
   "cell_type": "markdown",
   "metadata": {},
   "source": [
    "The histogram shows the majority of users fall between the ages of 25 - 40 years, which is also the same age range of working adults."
   ]
  },
  {
   "cell_type": "code",
   "execution_count": 35,
   "metadata": {},
   "outputs": [
    {
     "data": {
      "text/html": [
       "<div>\n",
       "<style scoped>\n",
       "    .dataframe tbody tr th:only-of-type {\n",
       "        vertical-align: middle;\n",
       "    }\n",
       "\n",
       "    .dataframe tbody tr th {\n",
       "        vertical-align: top;\n",
       "    }\n",
       "\n",
       "    .dataframe thead th {\n",
       "        text-align: right;\n",
       "    }\n",
       "</style>\n",
       "<table border=\"1\" class=\"dataframe\">\n",
       "  <thead>\n",
       "    <tr style=\"text-align: right;\">\n",
       "      <th></th>\n",
       "      <th>duration_sec</th>\n",
       "      <th>start_station_latitude</th>\n",
       "      <th>start_station_longitude</th>\n",
       "      <th>end_station_latitude</th>\n",
       "      <th>end_station_longitude</th>\n",
       "      <th>member_birth_year</th>\n",
       "      <th>start_time_day</th>\n",
       "      <th>start_time_hour</th>\n",
       "      <th>distance_km</th>\n",
       "      <th>member_age</th>\n",
       "    </tr>\n",
       "  </thead>\n",
       "  <tbody>\n",
       "    <tr>\n",
       "      <th>count</th>\n",
       "      <td>226077.000000</td>\n",
       "      <td>226077.000000</td>\n",
       "      <td>226077.000000</td>\n",
       "      <td>226077.000000</td>\n",
       "      <td>226077.000000</td>\n",
       "      <td>226077.000000</td>\n",
       "      <td>226077.000000</td>\n",
       "      <td>226077.000000</td>\n",
       "      <td>226077.000000</td>\n",
       "      <td>226077.000000</td>\n",
       "    </tr>\n",
       "    <tr>\n",
       "      <th>mean</th>\n",
       "      <td>772.153855</td>\n",
       "      <td>37.768968</td>\n",
       "      <td>-122.351245</td>\n",
       "      <td>37.766270</td>\n",
       "      <td>-122.341636</td>\n",
       "      <td>1985.163121</td>\n",
       "      <td>13.850520</td>\n",
       "      <td>13.656524</td>\n",
       "      <td>2.797004</td>\n",
       "      <td>33.836879</td>\n",
       "    </tr>\n",
       "    <tr>\n",
       "      <th>std</th>\n",
       "      <td>1827.679920</td>\n",
       "      <td>0.130275</td>\n",
       "      <td>0.284137</td>\n",
       "      <td>0.352441</td>\n",
       "      <td>1.098276</td>\n",
       "      <td>9.325822</td>\n",
       "      <td>8.573385</td>\n",
       "      <td>4.782962</td>\n",
       "      <td>117.283053</td>\n",
       "      <td>9.325822</td>\n",
       "    </tr>\n",
       "    <tr>\n",
       "      <th>min</th>\n",
       "      <td>61.000000</td>\n",
       "      <td>0.000000</td>\n",
       "      <td>-122.453704</td>\n",
       "      <td>0.000000</td>\n",
       "      <td>-122.453704</td>\n",
       "      <td>1955.000000</td>\n",
       "      <td>1.000000</td>\n",
       "      <td>0.000000</td>\n",
       "      <td>0.000000</td>\n",
       "      <td>18.000000</td>\n",
       "    </tr>\n",
       "    <tr>\n",
       "      <th>25%</th>\n",
       "      <td>346.000000</td>\n",
       "      <td>37.770083</td>\n",
       "      <td>-122.413004</td>\n",
       "      <td>37.770407</td>\n",
       "      <td>-122.411738</td>\n",
       "      <td>1980.000000</td>\n",
       "      <td>7.000000</td>\n",
       "      <td>9.000000</td>\n",
       "      <td>0.924061</td>\n",
       "      <td>27.000000</td>\n",
       "    </tr>\n",
       "    <tr>\n",
       "      <th>50%</th>\n",
       "      <td>553.000000</td>\n",
       "      <td>37.780760</td>\n",
       "      <td>-122.398279</td>\n",
       "      <td>37.780955</td>\n",
       "      <td>-122.397437</td>\n",
       "      <td>1987.000000</td>\n",
       "      <td>12.000000</td>\n",
       "      <td>14.000000</td>\n",
       "      <td>1.464180</td>\n",
       "      <td>32.000000</td>\n",
       "    </tr>\n",
       "    <tr>\n",
       "      <th>75%</th>\n",
       "      <td>865.000000</td>\n",
       "      <td>37.797280</td>\n",
       "      <td>-122.288665</td>\n",
       "      <td>37.797673</td>\n",
       "      <td>-122.290230</td>\n",
       "      <td>1992.000000</td>\n",
       "      <td>22.000000</td>\n",
       "      <td>18.000000</td>\n",
       "      <td>2.278221</td>\n",
       "      <td>39.000000</td>\n",
       "    </tr>\n",
       "    <tr>\n",
       "      <th>max</th>\n",
       "      <td>86114.000000</td>\n",
       "      <td>37.880222</td>\n",
       "      <td>0.000000</td>\n",
       "      <td>37.880222</td>\n",
       "      <td>0.000000</td>\n",
       "      <td>2001.000000</td>\n",
       "      <td>30.000000</td>\n",
       "      <td>23.000000</td>\n",
       "      <td>12798.346860</td>\n",
       "      <td>64.000000</td>\n",
       "    </tr>\n",
       "  </tbody>\n",
       "</table>\n",
       "</div>"
      ],
      "text/plain": [
       "        duration_sec  start_station_latitude  start_station_longitude  \\\n",
       "count  226077.000000           226077.000000            226077.000000   \n",
       "mean      772.153855               37.768968              -122.351245   \n",
       "std      1827.679920                0.130275                 0.284137   \n",
       "min        61.000000                0.000000              -122.453704   \n",
       "25%       346.000000               37.770083              -122.413004   \n",
       "50%       553.000000               37.780760              -122.398279   \n",
       "75%       865.000000               37.797280              -122.288665   \n",
       "max     86114.000000               37.880222                 0.000000   \n",
       "\n",
       "       end_station_latitude  end_station_longitude  member_birth_year  \\\n",
       "count         226077.000000          226077.000000      226077.000000   \n",
       "mean              37.766270            -122.341636        1985.163121   \n",
       "std                0.352441               1.098276           9.325822   \n",
       "min                0.000000            -122.453704        1955.000000   \n",
       "25%               37.770407            -122.411738        1980.000000   \n",
       "50%               37.780955            -122.397437        1987.000000   \n",
       "75%               37.797673            -122.290230        1992.000000   \n",
       "max               37.880222               0.000000        2001.000000   \n",
       "\n",
       "       start_time_day  start_time_hour    distance_km     member_age  \n",
       "count   226077.000000    226077.000000  226077.000000  226077.000000  \n",
       "mean        13.850520        13.656524       2.797004      33.836879  \n",
       "std          8.573385         4.782962     117.283053       9.325822  \n",
       "min          1.000000         0.000000       0.000000      18.000000  \n",
       "25%          7.000000         9.000000       0.924061      27.000000  \n",
       "50%         12.000000        14.000000       1.464180      32.000000  \n",
       "75%         22.000000        18.000000       2.278221      39.000000  \n",
       "max         30.000000        23.000000   12798.346860      64.000000  "
      ]
     },
     "execution_count": 35,
     "metadata": {},
     "output_type": "execute_result"
    }
   ],
   "source": [
    "df_clean.describe()"
   ]
  },
  {
   "cell_type": "markdown",
   "metadata": {},
   "source": [
    "### Discuss the distribution(s) of your variable(s) of interest. Were there any unusual points? Did you need to perform any transformations?\n",
    "\n",
    "Looks at the statistics again. The 75% percentile for duration_sec is 865 seconds but the maximum in 86114 (i.e: 24 hours)\n",
    "\n",
    "### Of the features you investigated, were there any unusual distributions? Did you perform any operations on the data to tidy, adjust, or change the form of the data? If so, why did you do this?\n",
    "\n",
    "None"
   ]
  },
  {
   "cell_type": "markdown",
   "metadata": {},
   "source": [
    "## Bivariate Exploration\n",
    "\n",
    "In this section I will further explore the dataset by adding the customer type to the analysis."
   ]
  },
  {
   "cell_type": "code",
   "execution_count": 36,
   "metadata": {},
   "outputs": [],
   "source": [
    "# calculating % split for the user type\n",
    "customer = df_clean.query('user_type == \"Customer\"')['bike_id'].count()\n",
    "subscriber = df_clean.query('user_type == \"Subscriber\"')['bike_id'].count()\n",
    "\n",
    "customer_proportion = customer / df_clean['bike_id'].count()\n",
    "subscriber_proportion = subscriber / df_clean['bike_id'].count()"
   ]
  },
  {
   "cell_type": "code",
   "execution_count": 55,
   "metadata": {
    "scrolled": false
   },
   "outputs": [
    {
     "data": {
      "image/png": "[encoded data removed]",
      "text/plain": [
       "<Figure size 720x360 with 2 Axes>"
      ]
     },
     "metadata": {
      "needs_background": "light"
     },
     "output_type": "display_data"
    }
   ],
   "source": [
    "plt.figure(figsize = [10, 5])\n",
    "\n",
    "# code for the bar chart\n",
    "plt.subplot(1, 2, 1)\n",
    "\n",
    "g = sb.countplot(data=df_clean, x=\"user_type\", order=df_clean.user_type.value_counts().index)\n",
    "g.set_xlabel('User Type')\n",
    "g.set_ylabel('#Bike Trips')\n",
    "\n",
    "# code for the pie chart\n",
    "plt.subplot(1, 2, 2)\n",
    "\n",
    "labels = ['Customer', 'Subscriber']\n",
    "sizes = [customer_proportion, subscriber_proportion]\n",
    "colors = ['darkorange', 'steelblue']\n",
    "explode = (0, 0.1)\n",
    "\n",
    "plt.pie(sizes, explode=explode, labels=labels, colors = colors,\n",
    "        autopct='%1.1f%%', shadow=True, startangle=90)\n",
    "plt.axis('equal')\n",
    "\n",
    "plt.suptitle('User type split ', y=1.03, fontsize=14, fontweight='semibold');"
   ]
  },
  {
   "cell_type": "markdown",
   "metadata": {},
   "source": [
    "The bike sharing system is mainly used by subscribers (87.1%) than ocassional riders (12.9%).\n",
    "\n"
   ]
  },
  {
   "cell_type": "code",
   "execution_count": 38,
   "metadata": {},
   "outputs": [
    {
     "data": {
      "image/png": "[encoded data removed]",
      "text/plain": [
       "<Figure size 720x360 with 2 Axes>"
      ]
     },
     "metadata": {
      "needs_background": "light"
     },
     "output_type": "display_data"
    }
   ],
   "source": [
    "# weekday usage of the bike sharing system per user type\n",
    "\n",
    "weekday = ['Mon', 'Tue', 'Wed', 'Thu', 'Fri', 'Sat', 'Sun']\n",
    "g = sb.catplot(data=df_clean, x='start_time_weekday', col=\"user_type\", kind='count', sharey = False,\n",
    "            color = 'b', order = weekday)\n",
    "g.set_axis_labels(\"Weekday\", \"#Bike Trips\")\n",
    "g.set_titles(\"{col_name}\")\n",
    "g.fig.suptitle('Weekly usage of the bike share system per user type', y=1.03, fontsize=14, fontweight='semibold');"
   ]
  },
  {
   "cell_type": "markdown",
   "metadata": {},
   "source": [
    "Subscribers appears to use bikes more than customer during weekday. On the other hands, customers seem to use the bike about the same amount through out the week, including weekend trips\n",
    "\n",
    "This may be explained that most subscribers use the bikes mainly for daily work/school commute, whereas customers are tourists who do not get affected by the working/school hour, hence the equally usage everday "
   ]
  },
  {
   "cell_type": "code",
   "execution_count": 39,
   "metadata": {
    "scrolled": false
   },
   "outputs": [
    {
     "data": {
      "image/png": "[encoded data removed]",
      "text/plain": [
       "<Figure size 720x360 with 2 Axes>"
      ]
     },
     "metadata": {
      "needs_background": "light"
     },
     "output_type": "display_data"
    }
   ],
   "source": [
    "# hourly usage of the bike sharing system per user type\n",
    "\n",
    "g = sb.catplot(data=df_clean, x='start_time_hour', col=\"user_type\", kind='count', sharey = False,\n",
    "            color = 'b')\n",
    "g.set_axis_labels(\"Hour\", \"#Bike Trips\")\n",
    "g.set_titles(\"{col_name}\")\n",
    "g.fig.suptitle('Hourly usage of the bike share system per user type', y=1.03, fontsize=14, fontweight='semibold');"
   ]
  },
  {
   "cell_type": "markdown",
   "metadata": {},
   "source": [
    "The only difference we can observe from the 2 graphs above is that customer use the bike more between 9am to 4pm. This further reinforce our hypothesis that subsribers use it for commuting to work/school since they would not be using it during the work hour"
   ]
  },
  {
   "cell_type": "code",
   "execution_count": 47,
   "metadata": {},
   "outputs": [
    {
     "name": "stderr",
     "output_type": "stream",
     "text": [
      "D:\\Anaconda3\\lib\\site-packages\\seaborn\\axisgrid.py:230: UserWarning: The `size` paramter has been renamed to `height`; please update your code.\n",
      "  warnings.warn(msg, UserWarning)\n"
     ]
    },
    {
     "data": {
      "image/png": "[encoded data removed]",
      "text/plain": [
       "<Figure size 720x360 with 2 Axes>"
      ]
     },
     "metadata": {
      "needs_background": "light"
     },
     "output_type": "display_data"
    }
   ],
   "source": [
    "# duration (sec) distribution per user type\n",
    "\n",
    "g = sb.FacetGrid(df_clean, col=\"user_type\", margin_titles=True, size=5)\n",
    "bin_edges = np.arange(0, 3600,60)\n",
    "g.map(plt.hist, \"duration_sec\", color='b', bins=bin_edges)\n",
    "g.set_axis_labels(\"Duration (sec)\", \"#Bike Trips\")\n",
    "g.set_titles(col_template = '{col_name}')\n",
    "g.fig.suptitle('Trip duration (sec) histogram per user type', y=1.03, fontsize=14, fontweight='semibold');"
   ]
  },
  {
   "cell_type": "code",
   "execution_count": 41,
   "metadata": {},
   "outputs": [
    {
     "data": {
      "image/png": "[encoded data removed]",
      "text/plain": [
       "<Figure size 720x360 with 2 Axes>"
      ]
     },
     "metadata": {
      "needs_background": "light"
     },
     "output_type": "display_data"
    }
   ],
   "source": [
    "# distribution per user type\n",
    "\n",
    "data = df_clean.query('duration_sec < 3600')\n",
    "g = sb.catplot(data=data, y='duration_sec', col=\"user_type\", kind='box',\n",
    "            color = 'b')\n",
    "g.set_titles(col_template = '{col_name}')\n",
    "g.set_axis_labels(\"\", \"Trip duration (sec)\")\n",
    "g.fig.suptitle('Trip duration per user type', y=1.03, fontsize=14, fontweight='semibold');"
   ]
  },
  {
   "cell_type": "markdown",
   "metadata": {},
   "source": [
    "Looking at both charts (histograms and box plots), it appear that trip durations are longer for customers than for it is for subscribers"
   ]
  },
  {
   "cell_type": "code",
   "execution_count": 42,
   "metadata": {},
   "outputs": [
    {
     "name": "stderr",
     "output_type": "stream",
     "text": [
      "D:\\Anaconda3\\lib\\site-packages\\seaborn\\axisgrid.py:230: UserWarning: The `size` paramter has been renamed to `height`; please update your code.\n",
      "  warnings.warn(msg, UserWarning)\n"
     ]
    },
    {
     "data": {
      "image/png": "[encoded data removed]",
      "text/plain": [
       "<Figure size 720x360 with 2 Axes>"
      ]
     },
     "metadata": {
      "needs_background": "light"
     },
     "output_type": "display_data"
    }
   ],
   "source": [
    "# travel distance per user type\n",
    "g = sb.FacetGrid(df_clean, col=\"user_type\", margin_titles=True, size=5)\n",
    "bin_edges = np.arange(0, 10, 1)\n",
    "g.map(plt.hist, \"distance_km\", color='b', bins=bin_edges)\n",
    "g.set_axis_labels(\"Travel distance (km)\", \"#Bike Trips\")\n",
    "g.set_titles(col_template = '{col_name}')\n",
    "g.fig.suptitle('Travel distance per user type', y=1.03, fontsize=14, fontweight='semibold');"
   ]
  },
  {
   "cell_type": "markdown",
   "metadata": {},
   "source": [
    "The distance seems to be corresponding to the travel duration as both graph have similar shape. Most subscriber travel between 1 - 2 km whereas the distance is varied more evenly between 0 - 4 km"
   ]
  },
  {
   "cell_type": "markdown",
   "metadata": {},
   "source": [
    "### Talk about some of the relationships you observed in this part of the investigation. How did the feature(s) of interest vary with other features in the dataset?\n",
    "\n",
    "Customers are likely to be casual riders or tourists, they tend to use it more often throughout the week and they rent bikes more often within the day rather than around commute hours (8-9am and 5-6pm)\n",
    "\n",
    "Subscribers are daily commuters, they rent bikes more often during weekdays than weekends and mainly around the time they go and go back from work or school (8-9am and 5-6pm).\n",
    "\n",
    "### Did you observe any interesting relationships between the other features (not the main feature(s) of interest)?\n",
    "\n",
    "Customers trips are usually longer than for subscribers, most probably because they prefer bike rides  around the area, which  encourages longer trips. \n",
    "\n",
    "Subscribers on the other hand use the system mainly for commute purposes so they rather prefer quick rides to and from work/school."
   ]
  },
  {
   "cell_type": "markdown",
   "metadata": {},
   "source": [
    "## Multivariate Exploration\n",
    "\n",
    "> Create plots of three or more variables to investigate your data even\n",
    "further. Make sure that your investigations are justified, and follow from\n",
    "your work in the previous sections."
   ]
  },
  {
   "cell_type": "code",
   "execution_count": 43,
   "metadata": {
    "scrolled": true
   },
   "outputs": [
    {
     "data": {
      "image/png": "[encoded data removed]",
      "text/plain": [
       "<Figure size 720x360 with 1 Axes>"
      ]
     },
     "metadata": {
      "needs_background": "light"
     },
     "output_type": "display_data"
    }
   ],
   "source": [
    "plt.figure(figsize = [10, 5])\n",
    "\n",
    "plt.subplot(1, 2, 1)\n",
    "\n",
    "g = sb.countplot(data=df_clean, x=\"user_type\", hue=\"member_gender\", order=df_clean.user_type.value_counts().index)\n",
    "g.set_xlabel('User Type')\n",
    "g.set_ylabel('#Bike Trips');"
   ]
  },
  {
   "cell_type": "markdown",
   "metadata": {},
   "source": [
    "Overall, it can be seen that males are using the system much more than female. However, the discrepancy between males and females are much greater for subscriber than it is for customer. "
   ]
  },
  {
   "cell_type": "code",
   "execution_count": 44,
   "metadata": {},
   "outputs": [
    {
     "data": {
      "image/png": "[encoded data removed]",
      "text/plain": [
       "<Figure size 810.375x360 with 2 Axes>"
      ]
     },
     "metadata": {
      "needs_background": "light"
     },
     "output_type": "display_data"
    }
   ],
   "source": [
    "# weekday usage of the bike sharing system \n",
    "\n",
    "weekday = ['Mon', 'Tue', 'Wed', 'Thu', 'Fri', 'Sat', 'Sun']\n",
    "g = sb.catplot(data=df_clean, x='start_time_weekday', col=\"user_type\", hue='member_gender', kind='count', sharey = False,\n",
    "                order = weekday)\n",
    "g.set_axis_labels(\"Weekday\", \"#Bike Trips\")\n",
    "g._legend.set_title('bike_share_for_all_trip')\n",
    "g.set_titles(\"{col_name}\")\n",
    "g.fig.suptitle('Weekly usage of the bike share system per user type and bikeshare', y=1.03, fontsize=14, fontweight='semibold');"
   ]
  },
  {
   "cell_type": "markdown",
   "metadata": {},
   "source": [
    "The trend for both females and males appear to be very similar. Regardless of genders, subscribers tend to use the system more on the weekdays rather than the weekend. And vice versa, customer use the system about the same amount of any day of the week."
   ]
  },
  {
   "cell_type": "code",
   "execution_count": 45,
   "metadata": {},
   "outputs": [
    {
     "data": {
      "image/png": "[encoded data removed]",
      "text/plain": [
       "<Figure size 810.375x360 with 2 Axes>"
      ]
     },
     "metadata": {
      "needs_background": "light"
     },
     "output_type": "display_data"
    }
   ],
   "source": [
    "# hourly usage of the bike sharing system per user type and gender\n",
    "\n",
    "g = sb.catplot(data=df_clean, x='start_time_hour', col=\"user_type\", hue='member_gender', kind='count', sharey = False)\n",
    "g.set_axis_labels(\"Hour\", \"#Bike Trips\")\n",
    "g._legend.set_title('Gender')\n",
    "g.set_titles(\"{col_name}\")\n",
    "g.fig.suptitle('Hourly usage of the bike share system per user type and gender', y=1.03, fontsize=14, fontweight='semibold');"
   ]
  },
  {
   "cell_type": "markdown",
   "metadata": {},
   "source": [
    "Again, the pattern for males and females are very similar. This further indicates that gender doesn't affect the demand for bike usage"
   ]
  },
  {
   "cell_type": "code",
   "execution_count": 49,
   "metadata": {},
   "outputs": [
    {
     "name": "stderr",
     "output_type": "stream",
     "text": [
      "D:\\Anaconda3\\lib\\site-packages\\scipy\\stats\\stats.py:1713: FutureWarning: Using a non-tuple sequence for multidimensional indexing is deprecated; use `arr[tuple(seq)]` instead of `arr[seq]`. In the future this will be interpreted as an array index, `arr[np.array(seq)]`, which will result either in an error or a different result.\n",
      "  return np.add.reduce(sorted[indexer] * weights, axis=axis) / sumval\n"
     ]
    },
    {
     "data": {
      "image/png": "[encoded data removed]",
      "text/plain": [
       "<Figure size 450.375x360 with 1 Axes>"
      ]
     },
     "metadata": {
      "needs_background": "light"
     },
     "output_type": "display_data"
    }
   ],
   "source": [
    "# code for the (violinplot) duration (sec) distribution per user type and gender\n",
    "g = sb.catplot(data=data, x='user_type', y=\"duration_sec\", hue=\"member_gender\", kind=\"violin\")\n",
    "\n",
    "g.set_axis_labels(\"User Type\", \"Trip duration (sec)\")\n",
    "g._legend.set_title('Gender')\n",
    "g.fig.suptitle('Trip duration (sec) per user type and gender', y=1.03, fontsize=14, fontweight='semibold');"
   ]
  },
  {
   "cell_type": "markdown",
   "metadata": {},
   "source": [
    "Looking at the interquartile range for both customer and subscriber, it can be seen that female generally will take longer trip (measured in seconds) than their males counterpart. The difference between the two are quite minimal, however.\n",
    "\n",
    "One possible explanation for this difference is because males are physically stronger than females, hence the time taken for theit trip might be slighly shorter than females'. This again means that gender is unlikely to affect bike usage."
   ]
  },
  {
   "cell_type": "code",
   "execution_count": 54,
   "metadata": {},
   "outputs": [
    {
     "data": {
      "image/png": "[encoded data removed]",
      "text/plain": [
       "<Figure size 648x576 with 4 Axes>"
      ]
     },
     "metadata": {
      "needs_background": "light"
     },
     "output_type": "display_data"
    }
   ],
   "source": [
    "# Setting the weekday order\n",
    "df_clean['start_time_weekday'] = pd.Categorical(df_clean['start_time_weekday'], \n",
    "                                                categories=['Mon','Tue','Wed','Thu','Fri','Sat', 'Sun'], \n",
    "                                                ordered=True)\n",
    "plt.figure(figsize=(9,8))\n",
    "plt.suptitle('Hourly usage during the weekday for customers and subscribers', fontsize=14, fontweight='semibold')\n",
    "\n",
    "# heatmap for customers\n",
    "plt.subplot(1, 2, 1)\n",
    "df_customer = df_clean.query('user_type == \"Customer\"').groupby([\"start_time_hour\", \"start_time_weekday\"])[\"bike_id\"].size().reset_index()\n",
    "df_customer = df_customer.pivot(\"start_time_hour\", \"start_time_weekday\", \"bike_id\")\n",
    "sb.heatmap(df_customer, cmap=\"BuPu\")\n",
    "\n",
    "plt.title(\"Customer\", y=1.015)\n",
    "plt.xlabel('Weekday')\n",
    "plt.ylabel('Start Time Hour')\n",
    "\n",
    "# heatmap for subscribers\n",
    "plt.subplot(1, 2, 2)\n",
    "df_subscriber = df_clean.query('user_type == \"Subscriber\"').groupby([\"start_time_hour\", \"start_time_weekday\"])[\"bike_id\"].size().reset_index()\n",
    "df_subscriber = df_subscriber.pivot(\"start_time_hour\", \"start_time_weekday\", \"bike_id\")\n",
    "sb.heatmap(df_subscriber, cmap=\"BuPu\")\n",
    "\n",
    "plt.title(\"Subscriber\", y=1.015)\n",
    "plt.xlabel('Weekday')\n",
    "plt.ylabel('');"
   ]
  },
  {
   "cell_type": "markdown",
   "metadata": {},
   "source": [
    "## Summary"
   ]
  },
  {
   "cell_type": "markdown",
   "metadata": {},
   "source": [
    "Observation:\n",
    "\n",
    "- The majority of users for this system are subscribers (87.1%)\n",
    "- Majority of users are between the working age of 20 - 40 years old\n",
    "- Customers use the bike sharing system equally on any day of the week. On the other hand, subscribers tend to use the system more on weekdays with relatively low usage on the weekend\n",
    "- As depited by the histogram in the bivariables analysis and the heat map above. Between 9am - 4pm, which are working hours, customer generally has higher bike usage than subscribers. Additionally, bike usage for subscribes is also much higher between 8-9am (waking hour/work start hour)\n",
    "- Customer generally take longer trips than subscribers, both in terms of travel duration and distance (km)\n",
    "- There are a higher male-to-female ratio for subscribers than customers\n",
    "- Genders do not appear to affect bike usage in anyway as both males and females have very similar usage pattern\n",
    "\n",
    "Conclusion:\n",
    "\n",
    "- Subscribers are likely people who use it for school and work commute, this is supported by the fact that they generally take shorter and quicker trips. Additionally, they have the highest bike usage before 9am and after 5pm, and very low usage between 9am - 5pm, which makes sense as these people do not use the system during work hour\n",
    "- Customers are likely to be tourists, this is supported by the fact that they take longer trips and the usage is not constrained by day of the week or working hour.\n",
    "- Male are generally more likely to use and become the member of the system as shown by the male-to-female ratio in terms of number of users and subscriber"
   ]
  },
  {
   "cell_type": "markdown",
   "metadata": {},
   "source": [
    "### Talk about some of the relationships you observed in this part of the investigation. Were there features that strengthened each other in terms of looking at your feature(s) of interest?\n",
    "\n",
    "The heatmap didn't reveal anything new for the time based discussion on when and what time each user group uses the bike sharing system.  Customers use the system at almost the opposite time as the Subscribers.\n",
    "\n",
    "### Were there any interesting or surprising interactions between features?\n",
    "\n",
    "I have also checked if there is a trend difference for genders for each user group. There are not much of the differences in trends"
   ]
  },
  {
   "cell_type": "markdown",
   "metadata": {},
   "source": [
    "> At the end of your report, make sure that you export the notebook as an\n",
    "html file from the `File > Download as... > HTML` menu. Make sure you keep\n",
    "track of where the exported file goes, so you can put it in the same folder\n",
    "as this notebook for project submission. Also, make sure you remove all of\n",
    "the quote-formatted guide notes like this one before you finish your report!"
   ]
  },
  {
   "cell_type": "code",
   "execution_count": null,
   "metadata": {},
   "outputs": [],
   "source": []
  }
 ],
 "metadata": {
  "kernelspec": {
   "display_name": "Python 3",
   "language": "python",
   "name": "python3"
  },
  "language_info": {
   "codemirror_mode": {
    "name": "ipython",
    "version": 3
   },
   "file_extension": ".py",
   "mimetype": "text/x-python",
   "name": "python",
   "nbconvert_exporter": "python",
   "pygments_lexer": "ipython3",
   "version": "3.7.0"
  }
 },
 "nbformat": 4,
 "nbformat_minor": 2
}
